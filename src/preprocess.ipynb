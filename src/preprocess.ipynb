{
 "cells": [
  {
   "cell_type": "code",
   "execution_count": 25,
   "id": "71a1cf81-3956-4d20-a871-d0c825850ed3",
   "metadata": {
    "execution": {
     "iopub.execute_input": "2024-12-03T10:31:39.657725Z",
     "iopub.status.busy": "2024-12-03T10:31:39.656535Z",
     "iopub.status.idle": "2024-12-03T10:31:39.662499Z",
     "shell.execute_reply": "2024-12-03T10:31:39.661137Z",
     "shell.execute_reply.started": "2024-12-03T10:31:39.657676Z"
    }
   },
   "outputs": [],
   "source": [
    "import pandas as pd\n",
    "import os \n",
    "import re\n",
    "from unidecode import unidecode"
   ]
  },
  {
   "cell_type": "markdown",
   "id": "a4383bc4-fe46-43bb-8583-7cd54b240771",
   "metadata": {},
   "source": [
    "### Objective:\n",
    "We need to put it in a generic label-text format, as standard practice. \n",
    "\n",
    "If the same text entry has multiple labels, one can put the same text on different rows along with the different labels for trainining. \n",
    "\n",
    "The ```municip_faudit_plans.csv``` dataset was created by unifying several sources that describe with different parameters the actions within the plans for Italian Municipalities that have participated and obtained a Family Audit certification. \n",
    "\n",
    "The file specification may be one of the following: ```.csv```, ```.gzip```, ```.xlsx```, ```.json```, ```.feather```"
   ]
  },
  {
   "cell_type": "code",
   "execution_count": 6,
   "id": "ed956504-a808-4bdf-8f13-a20262ee35aa",
   "metadata": {
    "execution": {
     "iopub.execute_input": "2024-12-03T10:22:11.992680Z",
     "iopub.status.busy": "2024-12-03T10:22:11.992123Z",
     "iopub.status.idle": "2024-12-03T10:22:12.172698Z",
     "shell.execute_reply": "2024-12-03T10:22:12.171985Z",
     "shell.execute_reply.started": "2024-12-03T10:22:11.992638Z"
    }
   },
   "outputs": [
    {
     "data": {
      "text/plain": [
       "Index(['codice_macro', 'ID_piano', 'ID_azione', 'ID_tassonomia', 'titolo',\n",
       "       'obiettivo', 'descrizione', 'assessorato', 'tipologia_partnership',\n",
       "       'altre_organizzazioni_coinvolte', 'indicatore', 'azione',\n",
       "       'codice_campo', 'numero_codice_campo', 'descrizione_codice_macro',\n",
       "       'descrizione_codice_campo', 'ID_organizzazione', 'anno_compilazione',\n",
       "       'premessa', 'valutazione_globale', 'status', 'comune', 'codice_istat',\n",
       "       'dimensione', 'num_det_assegnazione', 'data_det_assegnazione',\n",
       "       'numero_registro_family_trentino', 'num_det_revoca', 'data_det_revoca',\n",
       "       'comune_breve'],\n",
       "      dtype='object')"
      ]
     },
     "execution_count": 6,
     "metadata": {},
     "output_type": "execute_result"
    }
   ],
   "source": [
    "df = pd.read_parquet('municip_faudit_plans.gzip')\n",
    "df.columns"
   ]
  },
  {
   "cell_type": "markdown",
   "id": "b0da4abb-31a2-493f-8c32-afb89f4e0c35",
   "metadata": {},
   "source": [
    "The data used for training contains: \n",
    "\n",
    "- ```ID_tassonomia```\n",
    "- ```titolo```\n",
    "- ```descrizione```\n",
    "- ```obiettivo```\n",
    "ID_tassonomia is the category to predict. the whole list of ID_tassonomia can be found in [correspondence.csv](https://github.com/FluveFV/faudit-classifier/blob/main/src/correspondence.csv), along with the relationship with other categories relevant to the taxonomy description.\n",
    "\n",
    "The other elements, title-description-objective, will be unified in one text and pre-processed to get rid of non-ascii characters. Here's an example function to do so:"
   ]
  },
  {
   "cell_type": "code",
   "execution_count": 17,
   "id": "aec26c7d-cdfb-4012-b7bd-a8517b9bd301",
   "metadata": {
    "execution": {
     "iopub.execute_input": "2024-12-03T10:28:24.267301Z",
     "iopub.status.busy": "2024-12-03T10:28:24.266902Z",
     "iopub.status.idle": "2024-12-03T10:28:24.276153Z",
     "shell.execute_reply": "2024-12-03T10:28:24.274787Z",
     "shell.execute_reply.started": "2024-12-03T10:28:24.267266Z"
    }
   },
   "outputs": [],
   "source": [
    "def formatter(og, c=None):\n",
    "    df = og.fillna('')\n",
    "    r = {}\n",
    "    tdo = []\n",
    "    if not isinstance(c, type(None)):\n",
    "        assert isinstance(c, list), 'The additional column(s) must be in a list' \n",
    "        for el in c:\n",
    "            r[el] = df[el]\n",
    "\n",
    "    for t, d, o in zip(df.titolo, df.descrizione, df.obiettivo):\n",
    "        t = ascificatore(t)\n",
    "        d = ascificatore(d)\n",
    "        o = ascificatore(o)\n",
    "        tdo.append((t + ' . ' + d + ' . '+ o).lower())\n",
    "    r['text'] = tdo\n",
    "\n",
    "    return pd.DataFrame(r)   \n",
    "    \n",
    "def ascificatore(s):\n",
    "    return unidecode(' '.join([c for c in re.split(r'[\\r\\n\\t]+', s) if s.strip()]).encode('ascii', 'ignore').decode())"
   ]
  },
  {
   "cell_type": "code",
   "execution_count": 22,
   "id": "4fb38cef-5ea9-41b0-a70d-a48b9c060a33",
   "metadata": {
    "execution": {
     "iopub.execute_input": "2024-12-03T10:29:07.972033Z",
     "iopub.status.busy": "2024-12-03T10:29:07.971605Z",
     "iopub.status.idle": "2024-12-03T10:29:08.256530Z",
     "shell.execute_reply": "2024-12-03T10:29:08.255751Z",
     "shell.execute_reply.started": "2024-12-03T10:29:07.971993Z"
    }
   },
   "outputs": [
    {
     "data": {
      "text/html": [
       "<div>\n",
       "<style scoped>\n",
       "    .dataframe tbody tr th:only-of-type {\n",
       "        vertical-align: middle;\n",
       "    }\n",
       "\n",
       "    .dataframe tbody tr th {\n",
       "        vertical-align: top;\n",
       "    }\n",
       "\n",
       "    .dataframe thead th {\n",
       "        text-align: right;\n",
       "    }\n",
       "</style>\n",
       "<table border=\"1\" class=\"dataframe\">\n",
       "  <thead>\n",
       "    <tr style=\"text-align: right;\">\n",
       "      <th></th>\n",
       "      <th>text</th>\n",
       "    </tr>\n",
       "  </thead>\n",
       "  <tbody>\n",
       "    <tr>\n",
       "      <th>0</th>\n",
       "      <td>adesione al piano giovani di zona della comuni...</td>\n",
       "    </tr>\n",
       "    <tr>\n",
       "      <th>1</th>\n",
       "      <td>riduzione tariffe asilo nido dal 1 gennaio 201...</td>\n",
       "    </tr>\n",
       "    <tr>\n",
       "      <th>2</th>\n",
       "      <td>revisione parametri icef per servizio tagesmut...</td>\n",
       "    </tr>\n",
       "    <tr>\n",
       "      <th>3</th>\n",
       "      <td>agevolazione per lacquisto kit pannolini lavab...</td>\n",
       "    </tr>\n",
       "    <tr>\n",
       "      <th>4</th>\n",
       "      <td>abbattimento della quota di iscrizione al serv...</td>\n",
       "    </tr>\n",
       "  </tbody>\n",
       "</table>\n",
       "</div>"
      ],
      "text/plain": [
       "                                                text\n",
       "0  adesione al piano giovani di zona della comuni...\n",
       "1  riduzione tariffe asilo nido dal 1 gennaio 201...\n",
       "2  revisione parametri icef per servizio tagesmut...\n",
       "3  agevolazione per lacquisto kit pannolini lavab...\n",
       "4  abbattimento della quota di iscrizione al serv..."
      ]
     },
     "execution_count": 22,
     "metadata": {},
     "output_type": "execute_result"
    }
   ],
   "source": [
    "data = formatter(df)\n",
    "data.head()"
   ]
  },
  {
   "cell_type": "markdown",
   "id": "139953c8-9a41-4006-bc26-63992c4933c8",
   "metadata": {},
   "source": [
    "Then, we attach the equivalent label we want to predict. One can also try and train the model wrt. 'macrocategoria' or 'field' as they are a less granular version of 'ID_tassonomia' for a simpler prediction."
   ]
  },
  {
   "cell_type": "code",
   "execution_count": 24,
   "id": "79add752-a820-464b-9398-ce3900b48a3c",
   "metadata": {
    "execution": {
     "iopub.execute_input": "2024-12-03T10:30:24.322657Z",
     "iopub.status.busy": "2024-12-03T10:30:24.322379Z",
     "iopub.status.idle": "2024-12-03T10:30:24.328238Z",
     "shell.execute_reply": "2024-12-03T10:30:24.327676Z",
     "shell.execute_reply.started": "2024-12-03T10:30:24.322640Z"
    }
   },
   "outputs": [
    {
     "data": {
      "text/html": [
       "<div>\n",
       "<style scoped>\n",
       "    .dataframe tbody tr th:only-of-type {\n",
       "        vertical-align: middle;\n",
       "    }\n",
       "\n",
       "    .dataframe tbody tr th {\n",
       "        vertical-align: top;\n",
       "    }\n",
       "\n",
       "    .dataframe thead th {\n",
       "        text-align: right;\n",
       "    }\n",
       "</style>\n",
       "<table border=\"1\" class=\"dataframe\">\n",
       "  <thead>\n",
       "    <tr style=\"text-align: right;\">\n",
       "      <th></th>\n",
       "      <th>text</th>\n",
       "      <th>label</th>\n",
       "    </tr>\n",
       "  </thead>\n",
       "  <tbody>\n",
       "    <tr>\n",
       "      <th>0</th>\n",
       "      <td>adesione al piano giovani di zona della comuni...</td>\n",
       "      <td>11</td>\n",
       "    </tr>\n",
       "    <tr>\n",
       "      <th>1</th>\n",
       "      <td>riduzione tariffe asilo nido dal 1 gennaio 201...</td>\n",
       "      <td>26</td>\n",
       "    </tr>\n",
       "    <tr>\n",
       "      <th>2</th>\n",
       "      <td>revisione parametri icef per servizio tagesmut...</td>\n",
       "      <td>26</td>\n",
       "    </tr>\n",
       "    <tr>\n",
       "      <th>3</th>\n",
       "      <td>agevolazione per lacquisto kit pannolini lavab...</td>\n",
       "      <td>30</td>\n",
       "    </tr>\n",
       "    <tr>\n",
       "      <th>4</th>\n",
       "      <td>abbattimento della quota di iscrizione al serv...</td>\n",
       "      <td>26</td>\n",
       "    </tr>\n",
       "  </tbody>\n",
       "</table>\n",
       "</div>"
      ],
      "text/plain": [
       "                                                text  label\n",
       "0  adesione al piano giovani di zona della comuni...     11\n",
       "1  riduzione tariffe asilo nido dal 1 gennaio 201...     26\n",
       "2  revisione parametri icef per servizio tagesmut...     26\n",
       "3  agevolazione per lacquisto kit pannolini lavab...     30\n",
       "4  abbattimento della quota di iscrizione al serv...     26"
      ]
     },
     "execution_count": 24,
     "metadata": {},
     "output_type": "execute_result"
    }
   ],
   "source": [
    "data['label'] = df['ID_tassonomia']\n",
    "data.head()"
   ]
  },
  {
   "cell_type": "code",
   "execution_count": 27,
   "id": "da41f21a-86b2-47af-9ca7-bda766197f1d",
   "metadata": {
    "execution": {
     "iopub.execute_input": "2024-12-03T10:32:14.947917Z",
     "iopub.status.busy": "2024-12-03T10:32:14.947122Z",
     "iopub.status.idle": "2024-12-03T10:32:15.041121Z",
     "shell.execute_reply": "2024-12-03T10:32:15.039683Z",
     "shell.execute_reply.started": "2024-12-03T10:32:14.947867Z"
    }
   },
   "outputs": [],
   "source": [
    "os.makedirs('dataset_BERT', exist_ok=True)\n",
    "data.to_parquet('dataset_BERT/addestramento.gzip') #or csv, xlsx, etc."
   ]
  },
  {
   "cell_type": "markdown",
   "id": "a22bd242-41f9-42b1-88fe-d1c95bc99dbe",
   "metadata": {},
   "source": [
    "This is the preprocess in its simplest version. We also checked for potential data leaks. In this case, we mean not exactly identical text between different rows, but similar enough that the training and testing process may share an almost identical text. \n",
    "\n",
    "The accuracy often does improve, but also the risk of overfitting on the data, as only $~30$% of the entries of the original dataset may be unique. Depending on how different the different entries of text can be, the percentage mentnioned above may change."
   ]
  }
 ],
 "metadata": {
  "kernelspec": {
   "display_name": "Python 3 (ipykernel)",
   "language": "python",
   "name": "python3"
  },
  "language_info": {
   "codemirror_mode": {
    "name": "ipython",
    "version": 3
   },
   "file_extension": ".py",
   "mimetype": "text/x-python",
   "name": "python",
   "nbconvert_exporter": "python",
   "pygments_lexer": "ipython3",
   "version": "3.10.0"
  }
 },
 "nbformat": 4,
 "nbformat_minor": 5
}
